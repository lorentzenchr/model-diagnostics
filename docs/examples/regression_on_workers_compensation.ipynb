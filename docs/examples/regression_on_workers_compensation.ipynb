{
 "cells": [
  {
   "cell_type": "markdown",
   "id": "0635403e-5936-4c7f-ad25-3a52670a1a10",
   "metadata": {},
   "source": [
    "# Regression on Workers' Compensation Dataset\n",
    "This notebook demonstrates model diagnostics on the workers' compensation dataset https://www.openml.org/d/42876.\n",
    "For details, see https://arxiv.org/abs/2202.12780.\n",
    "\n",
    "The modelling goal is to predict the expectation $E(Y|X)$ of $Y=\\text{UltimateIncurredClaimCost}$ conditional on the features $X$."
   ]
  },
  {
   "cell_type": "markdown",
   "id": "476f0984-84d4-493e-85c1-9823f2a47491",
   "metadata": {},
   "source": [
    "## 1. Load and prepare data"
   ]
  },
  {
   "cell_type": "code",
   "execution_count": 1,
   "id": "bdf0fa3a-650d-4ea4-a189-e81e4457fd08",
   "metadata": {},
   "outputs": [],
   "source": [
    "import calendar\n",
    "import numpy as np\n",
    "import pandas as pd\n",
    "from sklearn import set_config\n",
    "from sklearn.datasets import fetch_openml\n",
    "\n",
    "\n",
    "set_config(transform_output=\"pandas\")"
   ]
  },
  {
   "cell_type": "code",
   "execution_count": 2,
   "id": "2dcf7ba7-61c1-4ae4-97c7-4968bfc99ee0",
   "metadata": {},
   "outputs": [],
   "source": [
    "df_original = fetch_openml(data_id=42876, parser=\"auto\").frame"
   ]
  },
  {
   "cell_type": "code",
   "execution_count": 3,
   "id": "afe4ccd8-178e-494b-8404-5091ec470fce",
   "metadata": {},
   "outputs": [
    {
     "name": "stdout",
     "output_type": "stream",
     "text": [
      "The prepared dataset contains 82017 rows.\n"
     ]
    }
   ],
   "source": [
    "df = df_original.query(\"WeeklyPay >= 200 and HoursWorkedPerWeek >= 20\")\n",
    "df = df.assign(\n",
    "    DateTimeOfAccident=lambda x: pd.to_datetime(x[\"DateTimeOfAccident\"]),\n",
    "    DateOfAccident=lambda x: x.DateTimeOfAccident.dt.date,\n",
    "    DateReported=lambda x: pd.to_datetime(x.DateReported).dt.date,\n",
    "    LogDelay=lambda x: np.log1p((x.DateReported - x.DateOfAccident).dt.days),\n",
    "    HourOfAccident=lambda x: x.DateTimeOfAccident.dt.hour,\n",
    "    WeekDayOfAccident=lambda x: pd.Categorical.from_codes(\n",
    "        codes=x.DateTimeOfAccident.dt.weekday,\n",
    "        dtype=pd.CategoricalDtype(list(calendar.day_name), ordered=True),\n",
    "    ),\n",
    "    LogWeeklyPay=lambda x: np.log1p(x.WeeklyPay),\n",
    "    LogInitial=lambda x: np.log(x.InitialCaseEstimate),\n",
    "    DependentChildren=lambda x: np.fmin(4, x.DependentChildren),\n",
    "    HoursWorkedPerWeek=lambda x: np.fmin(60, x.HoursWorkedPerWeek),\n",
    "    Gender=lambda x: x.Gender.astype(\"category\"),\n",
    "    MaritalStatus=lambda x: x.MaritalStatus.astype(\"category\"),\n",
    "    PartTimeFullTime=lambda x: x.PartTimeFullTime.astype(\"category\"),\n",
    ").rename(columns={\"HoursWorkedPerWeek\": \"HoursPerWeek\"})\n",
    "\n",
    "x_continuous = [\n",
    "    \"Age\",\n",
    "    \"LogWeeklyPay\",\n",
    "    \"LogInitial\",\n",
    "    \"HourOfAccident\",\n",
    "    \"HoursPerWeek\",\n",
    "    \"LogDelay\",\n",
    "]\n",
    "x_discrete = [\n",
    "    \"Gender\",\n",
    "    \"MaritalStatus\",\n",
    "    \"PartTimeFullTime\",\n",
    "    \"DependentChildren\",\n",
    "    \"DaysWorkedPerWeek\",\n",
    "    \"WeekDayOfAccident\",\n",
    "]\n",
    "x_vars = x_continuous + x_discrete\n",
    "y_var = \"UltimateIncurredClaimCost\"\n",
    "\n",
    "print(f\"The prepared dataset contains {df.shape[0]} rows.\")"
   ]
  },
  {
   "cell_type": "code",
   "execution_count": 4,
   "id": "c23fe013-56a4-4616-b344-8af461593b12",
   "metadata": {},
   "outputs": [
    {
     "data": {
      "text/html": [
       "<div>\n",
       "<style scoped>\n",
       "    .dataframe tbody tr th:only-of-type {\n",
       "        vertical-align: middle;\n",
       "    }\n",
       "\n",
       "    .dataframe tbody tr th {\n",
       "        vertical-align: top;\n",
       "    }\n",
       "\n",
       "    .dataframe thead th {\n",
       "        text-align: right;\n",
       "    }\n",
       "</style>\n",
       "<table border=\"1\" class=\"dataframe\">\n",
       "  <thead>\n",
       "    <tr style=\"text-align: right;\">\n",
       "      <th></th>\n",
       "      <th>DateTimeOfAccident</th>\n",
       "      <th>DateReported</th>\n",
       "      <th>Age</th>\n",
       "      <th>Gender</th>\n",
       "      <th>MaritalStatus</th>\n",
       "      <th>DependentChildren</th>\n",
       "      <th>DependentsOther</th>\n",
       "      <th>WeeklyPay</th>\n",
       "      <th>PartTimeFullTime</th>\n",
       "      <th>HoursPerWeek</th>\n",
       "      <th>DaysWorkedPerWeek</th>\n",
       "      <th>ClaimDescription</th>\n",
       "      <th>InitialCaseEstimate</th>\n",
       "      <th>UltimateIncurredClaimCost</th>\n",
       "      <th>DateOfAccident</th>\n",
       "      <th>LogDelay</th>\n",
       "      <th>HourOfAccident</th>\n",
       "      <th>WeekDayOfAccident</th>\n",
       "      <th>LogWeeklyPay</th>\n",
       "      <th>LogInitial</th>\n",
       "    </tr>\n",
       "  </thead>\n",
       "  <tbody>\n",
       "    <tr>\n",
       "      <th>0</th>\n",
       "      <td>2005-01-13 09:00:00</td>\n",
       "      <td>2005-01-24</td>\n",
       "      <td>45</td>\n",
       "      <td>M</td>\n",
       "      <td>S</td>\n",
       "      <td>0</td>\n",
       "      <td>0</td>\n",
       "      <td>500</td>\n",
       "      <td>F</td>\n",
       "      <td>38</td>\n",
       "      <td>5</td>\n",
       "      <td>MOVING DISC STRAINED RIGHT SHOULDER</td>\n",
       "      <td>9500.0</td>\n",
       "      <td>102.39</td>\n",
       "      <td>2005-01-13</td>\n",
       "      <td>2.484907</td>\n",
       "      <td>9</td>\n",
       "      <td>Thursday</td>\n",
       "      <td>6.216606</td>\n",
       "      <td>9.159047</td>\n",
       "    </tr>\n",
       "    <tr>\n",
       "      <th>1</th>\n",
       "      <td>1994-09-28 15:00:00</td>\n",
       "      <td>1994-10-17</td>\n",
       "      <td>40</td>\n",
       "      <td>M</td>\n",
       "      <td>M</td>\n",
       "      <td>0</td>\n",
       "      <td>0</td>\n",
       "      <td>283</td>\n",
       "      <td>F</td>\n",
       "      <td>38</td>\n",
       "      <td>5</td>\n",
       "      <td>BOILING WATER CAME FROM TRUCK STRAIN RIGHT WRIST</td>\n",
       "      <td>3000.0</td>\n",
       "      <td>1451.00</td>\n",
       "      <td>1994-09-28</td>\n",
       "      <td>2.995732</td>\n",
       "      <td>15</td>\n",
       "      <td>Wednesday</td>\n",
       "      <td>5.648974</td>\n",
       "      <td>8.006368</td>\n",
       "    </tr>\n",
       "    <tr>\n",
       "      <th>5</th>\n",
       "      <td>2002-02-28 07:00:00</td>\n",
       "      <td>2002-04-08</td>\n",
       "      <td>50</td>\n",
       "      <td>F</td>\n",
       "      <td>S</td>\n",
       "      <td>0</td>\n",
       "      <td>0</td>\n",
       "      <td>517</td>\n",
       "      <td>F</td>\n",
       "      <td>38</td>\n",
       "      <td>5</td>\n",
       "      <td>SPILLED CHEMICAL WELDING IRRITATION LEFT CORNEA</td>\n",
       "      <td>1000.0</td>\n",
       "      <td>320.28</td>\n",
       "      <td>2002-02-28</td>\n",
       "      <td>3.688879</td>\n",
       "      <td>7</td>\n",
       "      <td>Thursday</td>\n",
       "      <td>6.249975</td>\n",
       "      <td>6.907755</td>\n",
       "    </tr>\n",
       "    <tr>\n",
       "      <th>7</th>\n",
       "      <td>1995-04-20 14:00:00</td>\n",
       "      <td>1995-05-08</td>\n",
       "      <td>19</td>\n",
       "      <td>M</td>\n",
       "      <td>S</td>\n",
       "      <td>0</td>\n",
       "      <td>0</td>\n",
       "      <td>200</td>\n",
       "      <td>F</td>\n",
       "      <td>38</td>\n",
       "      <td>5</td>\n",
       "      <td>ENTERED GRINDER FOREIGN BODY RIGHT EYE</td>\n",
       "      <td>110.0</td>\n",
       "      <td>108.00</td>\n",
       "      <td>1995-04-20</td>\n",
       "      <td>2.944439</td>\n",
       "      <td>14</td>\n",
       "      <td>Thursday</td>\n",
       "      <td>5.303305</td>\n",
       "      <td>4.700480</td>\n",
       "    </tr>\n",
       "    <tr>\n",
       "      <th>8</th>\n",
       "      <td>2005-01-07 14:00:00</td>\n",
       "      <td>2005-01-31</td>\n",
       "      <td>19</td>\n",
       "      <td>M</td>\n",
       "      <td>S</td>\n",
       "      <td>0</td>\n",
       "      <td>0</td>\n",
       "      <td>767</td>\n",
       "      <td>F</td>\n",
       "      <td>40</td>\n",
       "      <td>5</td>\n",
       "      <td>LIFTING STRAIN LOWER BACK AND</td>\n",
       "      <td>9700.0</td>\n",
       "      <td>7110.90</td>\n",
       "      <td>2005-01-07</td>\n",
       "      <td>3.218876</td>\n",
       "      <td>14</td>\n",
       "      <td>Friday</td>\n",
       "      <td>6.643790</td>\n",
       "      <td>9.179881</td>\n",
       "    </tr>\n",
       "  </tbody>\n",
       "</table>\n",
       "</div>"
      ],
      "text/plain": [
       "   DateTimeOfAccident DateReported  Age Gender MaritalStatus  \\\n",
       "0 2005-01-13 09:00:00   2005-01-24   45      M             S   \n",
       "1 1994-09-28 15:00:00   1994-10-17   40      M             M   \n",
       "5 2002-02-28 07:00:00   2002-04-08   50      F             S   \n",
       "7 1995-04-20 14:00:00   1995-05-08   19      M             S   \n",
       "8 2005-01-07 14:00:00   2005-01-31   19      M             S   \n",
       "\n",
       "   DependentChildren  DependentsOther  WeeklyPay PartTimeFullTime  \\\n",
       "0                  0                0        500                F   \n",
       "1                  0                0        283                F   \n",
       "5                  0                0        517                F   \n",
       "7                  0                0        200                F   \n",
       "8                  0                0        767                F   \n",
       "\n",
       "   HoursPerWeek  DaysWorkedPerWeek  \\\n",
       "0            38                  5   \n",
       "1            38                  5   \n",
       "5            38                  5   \n",
       "7            38                  5   \n",
       "8            40                  5   \n",
       "\n",
       "                                   ClaimDescription  InitialCaseEstimate  \\\n",
       "0               MOVING DISC STRAINED RIGHT SHOULDER               9500.0   \n",
       "1  BOILING WATER CAME FROM TRUCK STRAIN RIGHT WRIST               3000.0   \n",
       "5   SPILLED CHEMICAL WELDING IRRITATION LEFT CORNEA               1000.0   \n",
       "7            ENTERED GRINDER FOREIGN BODY RIGHT EYE                110.0   \n",
       "8                     LIFTING STRAIN LOWER BACK AND               9700.0   \n",
       "\n",
       "   UltimateIncurredClaimCost DateOfAccident  LogDelay  HourOfAccident  \\\n",
       "0                     102.39     2005-01-13  2.484907               9   \n",
       "1                    1451.00     1994-09-28  2.995732              15   \n",
       "5                     320.28     2002-02-28  3.688879               7   \n",
       "7                     108.00     1995-04-20  2.944439              14   \n",
       "8                    7110.90     2005-01-07  3.218876              14   \n",
       "\n",
       "  WeekDayOfAccident  LogWeeklyPay  LogInitial  \n",
       "0          Thursday      6.216606    9.159047  \n",
       "1         Wednesday      5.648974    8.006368  \n",
       "5          Thursday      6.249975    6.907755  \n",
       "7          Thursday      5.303305    4.700480  \n",
       "8            Friday      6.643790    9.179881  "
      ]
     },
     "execution_count": 4,
     "metadata": {},
     "output_type": "execute_result"
    }
   ],
   "source": [
    "df.head()"
   ]
  },
  {
   "cell_type": "markdown",
   "id": "1ddf4302-7c1a-4a90-88b6-a00866ce036a",
   "metadata": {},
   "source": [
    "## 2. Data split"
   ]
  },
  {
   "cell_type": "code",
   "execution_count": 5,
   "id": "a541e9f7-e68b-45f6-9b59-96db11c17915",
   "metadata": {},
   "outputs": [],
   "source": [
    "from sklearn.model_selection import train_test_split"
   ]
  },
  {
   "cell_type": "code",
   "execution_count": 6,
   "id": "700e6bbb-0641-4141-9d62-b51c78e4427e",
   "metadata": {},
   "outputs": [],
   "source": [
    "df_train, df_test = train_test_split(df, train_size=0.75, random_state=1234321)\n",
    "df = pd.concat((df_train, df_test), axis=0, keys=(\"train\", \"test\")).reset_index(level=0).rename(columns={\"level_0\": \"split\"})\n",
    "\n",
    "y_train, y_test = df_train[y_var], df_test[y_var]\n",
    "X_train, X_test = df_train[x_vars], df_test[x_vars]"
   ]
  },
  {
   "cell_type": "markdown",
   "id": "8c773b7c-f1cd-4deb-ae19-a0a57e1bc30f",
   "metadata": {},
   "source": [
    "We check whether the split results in two about identically distributed samples."
   ]
  },
  {
   "cell_type": "code",
   "execution_count": 7,
   "id": "2c740f0f-a580-4a51-b993-30f78cac2fbc",
   "metadata": {},
   "outputs": [
    {
     "data": {
      "text/html": [
       "<div>\n",
       "<style scoped>\n",
       "    .dataframe tbody tr th:only-of-type {\n",
       "        vertical-align: middle;\n",
       "    }\n",
       "\n",
       "    .dataframe tbody tr th {\n",
       "        vertical-align: top;\n",
       "    }\n",
       "\n",
       "    .dataframe thead th {\n",
       "        text-align: right;\n",
       "    }\n",
       "</style>\n",
       "<table border=\"1\" class=\"dataframe\">\n",
       "  <thead>\n",
       "    <tr style=\"text-align: right;\">\n",
       "      <th></th>\n",
       "      <th>mean</th>\n",
       "      <th>q20</th>\n",
       "      <th>q40</th>\n",
       "      <th>q50</th>\n",
       "      <th>q60</th>\n",
       "      <th>q80</th>\n",
       "      <th>q90</th>\n",
       "    </tr>\n",
       "    <tr>\n",
       "      <th>split</th>\n",
       "      <th></th>\n",
       "      <th></th>\n",
       "      <th></th>\n",
       "      <th></th>\n",
       "      <th></th>\n",
       "      <th></th>\n",
       "      <th></th>\n",
       "    </tr>\n",
       "  </thead>\n",
       "  <tbody>\n",
       "    <tr>\n",
       "      <th>test</th>\n",
       "      <td>13300.958856</td>\n",
       "      <td>205.0</td>\n",
       "      <td>464.714</td>\n",
       "      <td>707.500</td>\n",
       "      <td>1135.984</td>\n",
       "      <td>4716.426</td>\n",
       "      <td>18979.432</td>\n",
       "    </tr>\n",
       "    <tr>\n",
       "      <th>train</th>\n",
       "      <td>12909.500160</td>\n",
       "      <td>203.0</td>\n",
       "      <td>459.000</td>\n",
       "      <td>691.185</td>\n",
       "      <td>1096.230</td>\n",
       "      <td>4596.730</td>\n",
       "      <td>19030.384</td>\n",
       "    </tr>\n",
       "  </tbody>\n",
       "</table>\n",
       "</div>"
      ],
      "text/plain": [
       "               mean    q20      q40      q50       q60       q80        q90\n",
       "split                                                                      \n",
       "test   13300.958856  205.0  464.714  707.500  1135.984  4716.426  18979.432\n",
       "train  12909.500160  203.0  459.000  691.185  1096.230  4596.730  19030.384"
      ]
     },
     "execution_count": 7,
     "metadata": {},
     "output_type": "execute_result"
    }
   ],
   "source": [
    "df.groupby(\"split\").agg(\n",
    "    mean=pd.NamedAgg(column=y_var, aggfunc=\"mean\"),\n",
    "    q20=pd.NamedAgg(column=y_var, aggfunc=lambda x: np.quantile(x, 0.2)),\n",
    "    q40=pd.NamedAgg(column=y_var, aggfunc=lambda x: np.quantile(x, 0.4)),\n",
    "    q50=pd.NamedAgg(column=y_var, aggfunc=lambda x: np.quantile(x, 0.5)),\n",
    "    q60=pd.NamedAgg(column=y_var, aggfunc=lambda x: np.quantile(x, 0.6)),\n",
    "    q80=pd.NamedAgg(column=y_var, aggfunc=lambda x: np.quantile(x, 0.8)),\n",
    "    q90=pd.NamedAgg(column=y_var, aggfunc=lambda x: np.quantile(x, 0.9)),\n",
    ")"
   ]
  },
  {
   "cell_type": "markdown",
   "id": "1e32a519-7ac8-4e94-99a6-f451dc2190ff",
   "metadata": {},
   "source": [
    "## 3. Models\n",
    "We aim at predicting the conditional expectation $E(Y|X)$ and will finally evaluate the models with the Gamma deviance $S(z, y) = 2 \\left(log(\\frac{z}{y}) + \\frac{y}{z} - 1\\right)$.\n",
    "### 3.1 The trivial model"
   ]
  },
  {
   "cell_type": "code",
   "execution_count": 8,
   "id": "ad0611d6-3f25-4fdd-9ae4-f6f3161233cb",
   "metadata": {},
   "outputs": [],
   "source": [
    "from sklearn.dummy import DummyRegressor\n",
    "\n",
    "\n",
    "m_trivial = DummyRegressor(strategy=\"mean\").fit(X_train, y_train)"
   ]
  },
  {
   "cell_type": "markdown",
   "id": "9a176508-87d9-4b45-b9c1-436becc205f3",
   "metadata": {},
   "source": [
    "## 3.2 OLS\n",
    "\n",
    "Here, we train a Ordinary Least Squares (OLS) model, but on the log transformed target.\n",
    "`TransformedTargetRegressor` takes care of this transformation and also of the back transformation such that predictions are on the original target UltimateIncurredClaimCost."
   ]
  },
  {
   "cell_type": "code",
   "execution_count": 9,
   "id": "70f55852-de16-4dc6-b35e-ad3dfef93b3e",
   "metadata": {},
   "outputs": [],
   "source": [
    "from sklearn.compose import ColumnTransformer, TransformedTargetRegressor\n",
    "from sklearn.linear_model import LinearRegression\n",
    "from sklearn.pipeline import Pipeline\n",
    "from sklearn.preprocessing import OneHotEncoder\n",
    "\n",
    "\n",
    "# ColumnTransformer for linear models\n",
    "col_trans_linear = ColumnTransformer(\n",
    "    [\n",
    "        (\"numeric_features\", \"passthrough\", x_continuous),\n",
    "        (\"categorical_features\", OneHotEncoder(drop=\"first\", sparse_output=False), x_discrete),\n",
    "    ]\n",
    ")\n",
    "\n",
    "m_ols = Pipeline(\n",
    "    [\n",
    "        (\"column_transformer\", col_trans_linear),\n",
    "        (\n",
    "            \"model\",\n",
    "            TransformedTargetRegressor(\n",
    "                regressor=LinearRegression(),\n",
    "                func=np.log,\n",
    "                inverse_func=np.exp,\n",
    "            )\n",
    "        ),\n",
    "    ]\n",
    ").fit(X_train, y_train)"
   ]
  },
  {
   "cell_type": "markdown",
   "id": "39651cc8-ae00-4699-9c77-3846e1658c16",
   "metadata": {},
   "source": [
    "We expect a high bias due to the transformation. We correct for this bias by a multiplicative constant such that on the training set: $\\sum_i m(x_i) = \\sum_i y_i$."
   ]
  },
  {
   "cell_type": "code",
   "execution_count": 10,
   "id": "b76d3139-c4bd-44ad-ac64-42b8323f51fc",
   "metadata": {},
   "outputs": [
    {
     "name": "stdout",
     "output_type": "stream",
     "text": [
      "The correction factor is 6.6446580674943165\n"
     ]
    }
   ],
   "source": [
    "ols_corr_factor = np.sum(y_train) / np.sum(m_ols.predict(X_train))\n",
    "print(f\"The correction factor is {ols_corr_factor}\")\n",
    "m_ols[-1].regressor_.intercept_ += np.log(ols_corr_factor)"
   ]
  },
  {
   "cell_type": "code",
   "execution_count": 11,
   "id": "658210ee-ddca-4017-9572-a0c5797321d1",
   "metadata": {},
   "outputs": [
    {
     "data": {
      "text/plain": [
       "1.0000000000000002"
      ]
     },
     "execution_count": 11,
     "metadata": {},
     "output_type": "execute_result"
    }
   ],
   "source": [
    "np.sum(y_train) / np.sum(m_ols.predict(X_train))"
   ]
  },
  {
   "cell_type": "markdown",
   "id": "27244ec1-67ca-47f4-9820-2caade7386ce",
   "metadata": {},
   "source": [
    "### 3.3 Poisson GLM"
   ]
  },
  {
   "cell_type": "code",
   "execution_count": 12,
   "id": "66149c6d-8760-4769-8201-020df64ee75b",
   "metadata": {},
   "outputs": [],
   "source": [
    "from sklearn.linear_model import PoissonRegressor\n",
    "\n",
    "\n",
    "m_glm_poisson = Pipeline(\n",
    "    [\n",
    "        (\"column_transformer\", col_trans_linear),\n",
    "        (\"model\", PoissonRegressor(max_iter=10_000, alpha=1e-15, solver=\"newton-cholesky\")),\n",
    "    ]\n",
    ").fit(X_train, y_train)"
   ]
  },
  {
   "cell_type": "markdown",
   "id": "82daee1e-b891-4589-8d62-7895d0aa2d8c",
   "metadata": {},
   "source": [
    "### 3.4 Gradient Boosted Decision Trees\n",
    "TODO: We would like to use Gamma deviance as loss, but scikit-learn does not (yet) support it. We could use XGBoost or LightGBM instead, but are content with the Poisson loss at the moment."
   ]
  },
  {
   "cell_type": "code",
   "execution_count": 13,
   "id": "c791a0b8-2218-4c4f-98dc-7e048b3ff76e",
   "metadata": {},
   "outputs": [
    {
     "name": "stdout",
     "output_type": "stream",
     "text": [
      "CPU times: user 12min 12s, sys: 18.3 s, total: 12min 30s\n",
      "Wall time: 1min 41s\n"
     ]
    }
   ],
   "source": [
    "%%time\n",
    "# Note that this cell might take a little while ~ 2 minutes on my laptop.\n",
    "from sklearn.ensemble import HistGradientBoostingRegressor\n",
    "from sklearn.experimental import enable_halving_search_cv\n",
    "from sklearn.model_selection import HalvingGridSearchCV\n",
    "from sklearn.preprocessing import OrdinalEncoder\n",
    "\n",
    "\n",
    "# ColumnTransformer for boosted trees\n",
    "col_trans_bt = ColumnTransformer(\n",
    "    [\n",
    "        (\"categorical_features\", OrdinalEncoder(), x_discrete),\n",
    "        (\"numeric_features\", \"passthrough\", x_continuous),\n",
    "    ]\n",
    ")\n",
    "m_hgbt_poisson_base = Pipeline(\n",
    "    [\n",
    "        (\"column_transformer\", col_trans_bt),\n",
    "        (\n",
    "            \"model\", HistGradientBoostingRegressor(\n",
    "                loss=\"poisson\",\n",
    "                categorical_features=list(range(len(x_discrete))),\n",
    "                monotonic_cst={\"numeric_features__LogWeeklyPay\": 1},  # set_output API, YES!\n",
    "                max_iter=200,\n",
    "                random_state=33,\n",
    "            )\n",
    "        ),\n",
    "    ]\n",
    ")\n",
    "\n",
    "param_grid = {\n",
    "    \"model__learning_rate\": [0.02, 0.05],\n",
    "    \"model__min_samples_leaf\": [20, 30, 40],\n",
    "    \"model__l2_regularization\": [0.1, 1],\n",
    "    \"model__max_depth\": [None, 3],\n",
    "}\n",
    "\n",
    "\n",
    "# successive halfing grid search (CV) on the training data\n",
    "shgs = HalvingGridSearchCV(\n",
    "    m_hgbt_poisson_base,\n",
    "    param_grid=param_grid,\n",
    "    cv=5,\n",
    "    scoring=\"neg_mean_gamma_deviance\",\n",
    "    random_state=321,\n",
    ").fit(X_train, y_train)\n",
    "m_hgbt_poisson = shgs.best_estimator_"
   ]
  },
  {
   "cell_type": "code",
   "execution_count": 14,
   "id": "3ee2c06c-8e85-40f6-9133-727e2af81cab",
   "metadata": {},
   "outputs": [
    {
     "data": {
      "text/plain": [
       "({'model__l2_regularization': 1,\n",
       "  'model__learning_rate': 0.05,\n",
       "  'model__max_depth': 3,\n",
       "  'model__min_samples_leaf': 40},\n",
       " -3.547907637012485)"
      ]
     },
     "execution_count": 14,
     "metadata": {},
     "output_type": "execute_result"
    }
   ],
   "source": [
    "shgs.best_params_, shgs.best_score_"
   ]
  },
  {
   "cell_type": "code",
   "execution_count": 15,
   "id": "6dacffc8-9fd8-4b56-bd4e-9a9b71dbbdcb",
   "metadata": {},
   "outputs": [
    {
     "data": {
      "text/plain": [
       "130"
      ]
     },
     "execution_count": 15,
     "metadata": {},
     "output_type": "execute_result"
    }
   ],
   "source": [
    "m_hgbt_poisson[-1].n_iter_"
   ]
  },
  {
   "cell_type": "markdown",
   "id": "1a5f12d6-966d-45cc-ac1e-cfd43595a081",
   "metadata": {},
   "source": [
    "## 4. Calibration Assessment\n",
    "To make the code easier, we put together the predictions of our models on the test set in a single dataframe."
   ]
  },
  {
   "cell_type": "code",
   "execution_count": 16,
   "id": "4bd40f96-2581-499e-8bc6-2a3bb019de7b",
   "metadata": {},
   "outputs": [],
   "source": [
    "df_pred_test = pd.DataFrame(\n",
    "    {\n",
    "        \"Trivial\": m_trivial.predict(X_test),\n",
    "        \"OLS\": m_ols.predict(X_test),\n",
    "        \"GLM_Poisson\": m_glm_poisson.predict(X_test),\n",
    "        \"HGBT_Poisson\": m_hgbt_poisson.predict(X_test),\n",
    "    }\n",
    ")"
   ]
  },
  {
   "cell_type": "markdown",
   "id": "631c120d-c991-4c51-9a49-0282c21afbf4",
   "metadata": {},
   "source": [
    "## 4.1. Reliability Diagrams\n",
    "A reliability diagram plots an estimation of $E(Y|m(X))$ versus $m(X)$.\n",
    "A good way to estimate $E(Y|m(X))$ and thereby avoiding manual binning is by isotonic regression.\n",
    "This is implemented in `plot_reliability_diagram`."
   ]
  },
  {
   "cell_type": "code",
   "execution_count": 17,
   "id": "70fa98bf-2ab2-40fe-a1ca-ce3af33ea261",
   "metadata": {},
   "outputs": [],
   "source": [
    "import matplotlib.pyplot as plt\n",
    "from model_diagnostics.calibration import compute_bias, plot_bias, plot_reliability_diagram"
   ]
  },
  {
   "cell_type": "code",
   "execution_count": 18,
   "id": "f58490f0-9cae-4f2d-bf89-7f7a501d9995",
   "metadata": {},
   "outputs": [
    {
     "data": {
      "text/plain": [
       "<AxesSubplot: title={'center': 'Reliability Diagram HGBT_Poisson'}, xlabel='prediction for E(Y|X)', ylabel='estimated E(Y|prediction)'>"
      ]
     },
     "execution_count": 18,
     "metadata": {},
     "output_type": "execute_result"
    },
    {
     "data": {
      "image/png": "[encoded data removed]",
      "text/plain": [
       "<Figure size 1200x400 with 3 Axes>"
      ]
     },
     "metadata": {},
     "output_type": "display_data"
    }
   ],
   "source": [
    "fig, axes = plt.subplots(ncols=3, figsize=(12, 4), sharex=True, sharey=True)\n",
    "\n",
    "plot_reliability_diagram(\n",
    "    y_obs=y_test,\n",
    "    y_pred=df_pred_test[\"OLS\"],\n",
    "    ax=axes[0],\n",
    ")\n",
    "\n",
    "plot_reliability_diagram(\n",
    "    y_obs=y_test,\n",
    "    y_pred=df_pred_test[\"GLM_Poisson\"],\n",
    "    ax=axes[1]\n",
    ")\n",
    "\n",
    "plot_reliability_diagram(\n",
    "    y_obs=y_test,\n",
    "    y_pred=df_pred_test[\"HGBT_Poisson\"],\n",
    "    ax=axes[2]\n",
    ")\n",
    "#fig.set_layout_engine(layout=\"tight\")"
   ]
  },
  {
   "cell_type": "markdown",
   "id": "6e1789fb-b36c-4e37-b764-29ca5e031bee",
   "metadata": {},
   "source": [
    "### 4.2 Conditional Bias"
   ]
  },
  {
   "cell_type": "markdown",
   "id": "a77ba53f-dea6-4b54-afd2-2d5fcd39ac77",
   "metadata": {},
   "source": [
    "### Unconditional Bias"
   ]
  },
  {
   "cell_type": "code",
   "execution_count": 19,
   "id": "966a21af-8b3e-4d60-a25e-4e1334afeadc",
   "metadata": {},
   "outputs": [
    {
     "data": {
      "text/html": [
       "<div>\n",
       "<style scoped>\n",
       "    .dataframe tbody tr th:only-of-type {\n",
       "        vertical-align: middle;\n",
       "    }\n",
       "\n",
       "    .dataframe tbody tr th {\n",
       "        vertical-align: top;\n",
       "    }\n",
       "\n",
       "    .dataframe thead th {\n",
       "        text-align: right;\n",
       "    }\n",
       "</style>\n",
       "<table border=\"1\" class=\"dataframe\">\n",
       "  <thead>\n",
       "    <tr style=\"text-align: right;\">\n",
       "      <th></th>\n",
       "      <th>model</th>\n",
       "      <th>bias_mean</th>\n",
       "      <th>bias_count</th>\n",
       "      <th>bias_stderr</th>\n",
       "      <th>p_value</th>\n",
       "    </tr>\n",
       "  </thead>\n",
       "  <tbody>\n",
       "    <tr>\n",
       "      <th>0</th>\n",
       "      <td>Trivial</td>\n",
       "      <td>-391.458696</td>\n",
       "      <td>20505</td>\n",
       "      <td>394.427909</td>\n",
       "      <td>0.320979</td>\n",
       "    </tr>\n",
       "    <tr>\n",
       "      <th>1</th>\n",
       "      <td>OLS</td>\n",
       "      <td>-158.226277</td>\n",
       "      <td>20505</td>\n",
       "      <td>370.470343</td>\n",
       "      <td>0.669314</td>\n",
       "    </tr>\n",
       "    <tr>\n",
       "      <th>2</th>\n",
       "      <td>GLM_Poisson</td>\n",
       "      <td>-142.672362</td>\n",
       "      <td>20505</td>\n",
       "      <td>370.458593</td>\n",
       "      <td>0.700150</td>\n",
       "    </tr>\n",
       "    <tr>\n",
       "      <th>3</th>\n",
       "      <td>HGBT_Poisson</td>\n",
       "      <td>-94.439905</td>\n",
       "      <td>20505</td>\n",
       "      <td>370.823364</td>\n",
       "      <td>0.798976</td>\n",
       "    </tr>\n",
       "  </tbody>\n",
       "</table>\n",
       "</div>"
      ],
      "text/plain": [
       "          model   bias_mean  bias_count  bias_stderr   p_value\n",
       "0       Trivial -391.458696       20505   394.427909  0.320979\n",
       "1           OLS -158.226277       20505   370.470343  0.669314\n",
       "2   GLM_Poisson -142.672362       20505   370.458593  0.700150\n",
       "3  HGBT_Poisson  -94.439905       20505   370.823364  0.798976"
      ]
     },
     "execution_count": 19,
     "metadata": {},
     "output_type": "execute_result"
    }
   ],
   "source": [
    "compute_bias(\n",
    "    y_obs=y_test,\n",
    "    y_pred=df_pred_test,\n",
    "    feature=None,\n",
    ").to_pandas()"
   ]
  },
  {
   "cell_type": "markdown",
   "id": "c828b8d2-1b80-4561-8d1d-0e24e5f6f85c",
   "metadata": {},
   "source": [
    "#### Bias Conditional on Gender"
   ]
  },
  {
   "cell_type": "code",
   "execution_count": 20,
   "id": "bcc0aaf6-8653-4a7d-8c66-c0a4713e700f",
   "metadata": {},
   "outputs": [
    {
     "data": {
      "text/html": [
       "<div>\n",
       "<style scoped>\n",
       "    .dataframe tbody tr th:only-of-type {\n",
       "        vertical-align: middle;\n",
       "    }\n",
       "\n",
       "    .dataframe tbody tr th {\n",
       "        vertical-align: top;\n",
       "    }\n",
       "\n",
       "    .dataframe thead th {\n",
       "        text-align: right;\n",
       "    }\n",
       "</style>\n",
       "<table border=\"1\" class=\"dataframe\">\n",
       "  <thead>\n",
       "    <tr style=\"text-align: right;\">\n",
       "      <th></th>\n",
       "      <th>model</th>\n",
       "      <th>Gender</th>\n",
       "      <th>bias_mean</th>\n",
       "      <th>bias_count</th>\n",
       "      <th>bias_stderr</th>\n",
       "      <th>p_value</th>\n",
       "    </tr>\n",
       "  </thead>\n",
       "  <tbody>\n",
       "    <tr>\n",
       "      <th>0</th>\n",
       "      <td>Trivial</td>\n",
       "      <td>F</td>\n",
       "      <td>-4693.414762</td>\n",
       "      <td>4441</td>\n",
       "      <td>925.511027</td>\n",
       "      <td>4.115092e-07</td>\n",
       "    </tr>\n",
       "    <tr>\n",
       "      <th>1</th>\n",
       "      <td>Trivial</td>\n",
       "      <td>M</td>\n",
       "      <td>797.845767</td>\n",
       "      <td>16064</td>\n",
       "      <td>433.155234</td>\n",
       "      <td>6.550241e-02</td>\n",
       "    </tr>\n",
       "    <tr>\n",
       "      <th>2</th>\n",
       "      <td>OLS</td>\n",
       "      <td>F</td>\n",
       "      <td>-1212.773117</td>\n",
       "      <td>4441</td>\n",
       "      <td>878.188822</td>\n",
       "      <td>1.673504e-01</td>\n",
       "    </tr>\n",
       "    <tr>\n",
       "      <th>3</th>\n",
       "      <td>OLS</td>\n",
       "      <td>M</td>\n",
       "      <td>133.310235</td>\n",
       "      <td>16064</td>\n",
       "      <td>405.795301</td>\n",
       "      <td>7.425259e-01</td>\n",
       "    </tr>\n",
       "    <tr>\n",
       "      <th>4</th>\n",
       "      <td>GLM_Poisson</td>\n",
       "      <td>F</td>\n",
       "      <td>-184.995122</td>\n",
       "      <td>4441</td>\n",
       "      <td>878.931176</td>\n",
       "      <td>8.333048e-01</td>\n",
       "    </tr>\n",
       "    <tr>\n",
       "      <th>5</th>\n",
       "      <td>GLM_Poisson</td>\n",
       "      <td>M</td>\n",
       "      <td>-130.971952</td>\n",
       "      <td>16064</td>\n",
       "      <td>405.685045</td>\n",
       "      <td>7.468195e-01</td>\n",
       "    </tr>\n",
       "    <tr>\n",
       "      <th>6</th>\n",
       "      <td>HGBT_Poisson</td>\n",
       "      <td>F</td>\n",
       "      <td>-303.384575</td>\n",
       "      <td>4441</td>\n",
       "      <td>875.609671</td>\n",
       "      <td>7.289956e-01</td>\n",
       "    </tr>\n",
       "    <tr>\n",
       "      <th>7</th>\n",
       "      <td>HGBT_Poisson</td>\n",
       "      <td>M</td>\n",
       "      <td>-36.675756</td>\n",
       "      <td>16064</td>\n",
       "      <td>406.774313</td>\n",
       "      <td>9.281593e-01</td>\n",
       "    </tr>\n",
       "  </tbody>\n",
       "</table>\n",
       "</div>"
      ],
      "text/plain": [
       "          model Gender    bias_mean  bias_count  bias_stderr       p_value\n",
       "0       Trivial      F -4693.414762        4441   925.511027  4.115092e-07\n",
       "1       Trivial      M   797.845767       16064   433.155234  6.550241e-02\n",
       "2           OLS      F -1212.773117        4441   878.188822  1.673504e-01\n",
       "3           OLS      M   133.310235       16064   405.795301  7.425259e-01\n",
       "4   GLM_Poisson      F  -184.995122        4441   878.931176  8.333048e-01\n",
       "5   GLM_Poisson      M  -130.971952       16064   405.685045  7.468195e-01\n",
       "6  HGBT_Poisson      F  -303.384575        4441   875.609671  7.289956e-01\n",
       "7  HGBT_Poisson      M   -36.675756       16064   406.774313  9.281593e-01"
      ]
     },
     "execution_count": 20,
     "metadata": {},
     "output_type": "execute_result"
    }
   ],
   "source": [
    "compute_bias(\n",
    "    y_obs=y_test,\n",
    "    y_pred=df_pred_test,\n",
    "    feature=X_test[\"Gender\"],\n",
    ").to_pandas()"
   ]
  },
  {
   "cell_type": "code",
   "execution_count": 25,
   "id": "a57d6452-5f93-409b-82e2-36350fa86545",
   "metadata": {},
   "outputs": [
    {
     "data": {
      "text/plain": [
       "Text(0.5, 1.0, 'Bias Plot OLS')"
      ]
     },
     "execution_count": 25,
     "metadata": {},
     "output_type": "execute_result"
    },
    {
     "data": {
      "image/png": "[encoded data removed]",
      "text/plain": [
       "<Figure size 640x480 with 1 Axes>"
      ]
     },
     "metadata": {},
     "output_type": "display_data"
    }
   ],
   "source": [
    "ax = plot_bias(\n",
    "    y_obs=y_test,\n",
    "    y_pred=m_ols.predict(X_test),\n",
    "    feature=X_test[\"Gender\"],\n",
    ")\n",
    "ax.set_title(ax.get_title() + \" OLS\")"
   ]
  },
  {
   "cell_type": "markdown",
   "id": "1ac67348-f61a-49fe-b807-66b640e0c298",
   "metadata": {},
   "source": [
    "#### Bias Conditional on LogWeeklyPay"
   ]
  },
  {
   "cell_type": "code",
   "execution_count": 27,
   "id": "8c1eade0-cbc1-4919-8edd-a380491cc03d",
   "metadata": {},
   "outputs": [
    {
     "data": {
      "text/plain": [
       "Text(0.5, 1.0, 'Bias Plot OLS')"
      ]
     },
     "execution_count": 27,
     "metadata": {},
     "output_type": "execute_result"
    },
    {
     "data": {
      "image/png": "[encoded data removed]",
      "text/plain": [
       "<Figure size 640x480 with 1 Axes>"
      ]
     },
     "metadata": {},
     "output_type": "display_data"
    }
   ],
   "source": [
    "ax = plot_bias(\n",
    "    y_obs=y_test,\n",
    "    y_pred=m_ols.predict(X_test),\n",
    "    feature=X_test[\"LogWeeklyPay\"],\n",
    ")\n",
    "ax.set_title(ax.get_title() + \" OLS\")"
   ]
  },
  {
   "cell_type": "code",
   "execution_count": 28,
   "id": "b17d2803-158c-4467-87f0-c008b66eb18b",
   "metadata": {},
   "outputs": [
    {
     "data": {
      "text/plain": [
       "Text(0.5, 1.0, 'Bias Plot HGBT_Poisson')"
      ]
     },
     "execution_count": 28,
     "metadata": {},
     "output_type": "execute_result"
    },
    {
     "data": {
      "image/png": "[encoded data removed]",
      "text/plain": [
       "<Figure size 640x480 with 1 Axes>"
      ]
     },
     "metadata": {},
     "output_type": "display_data"
    }
   ],
   "source": [
    "ax = plot_bias(\n",
    "    y_obs=y_test,\n",
    "    y_pred=m_hgbt_poisson.predict(X_test),\n",
    "    feature=X_test[\"LogWeeklyPay\"],\n",
    ")\n",
    "ax.set_title(ax.get_title() + \" HGBT_Poisson\")"
   ]
  },
  {
   "cell_type": "markdown",
   "id": "e969d6df-c923-4733-b256-312e08a5ebf3",
   "metadata": {},
   "source": [
    "#### Bias Conditional on Age"
   ]
  },
  {
   "cell_type": "code",
   "execution_count": 29,
   "id": "ed065707-1d71-41e0-8b4e-f70b4478c7db",
   "metadata": {},
   "outputs": [
    {
     "data": {
      "text/plain": [
       "Text(0.5, 1.0, 'Bias Plot OLS')"
      ]
     },
     "execution_count": 29,
     "metadata": {},
     "output_type": "execute_result"
    },
    {
     "data": {
      "image/png": "[encoded data removed]",
      "text/plain": [
       "<Figure size 640x480 with 1 Axes>"
      ]
     },
     "metadata": {},
     "output_type": "display_data"
    }
   ],
   "source": [
    "ax = plot_bias(\n",
    "    y_obs=y_test,\n",
    "    y_pred=m_ols.predict(X_test),\n",
    "    feature=X_test[\"Age\"],\n",
    ")\n",
    "ax.set_title(ax.get_title() + \" OLS\")"
   ]
  },
  {
   "cell_type": "code",
   "execution_count": 30,
   "id": "1a798c9e-ab5a-410d-9db0-da6561691c0e",
   "metadata": {},
   "outputs": [
    {
     "data": {
      "text/plain": [
       "Text(0.5, 1.0, 'Bias Plot GLM_Poisson')"
      ]
     },
     "execution_count": 30,
     "metadata": {},
     "output_type": "execute_result"
    },
    {
     "data": {
      "image/png": "[encoded data removed]",
      "text/plain": [
       "<Figure size 640x480 with 1 Axes>"
      ]
     },
     "metadata": {},
     "output_type": "display_data"
    }
   ],
   "source": [
    "ax = plot_bias(\n",
    "    y_obs=y_test,\n",
    "    y_pred=m_glm_poisson.predict(X_test),\n",
    "    feature=X_test[\"Age\"],\n",
    ")\n",
    "ax.set_title(ax.get_title() + \" GLM_Poisson\")"
   ]
  },
  {
   "attachments": {},
   "cell_type": "markdown",
   "id": "26e23556",
   "metadata": {},
   "source": [
    "## 5. Predictive Model Performance\n",
    "We use the Gamma deviance and evaluate on the test set.\n",
    "On top, we additively decompose the scores in terms of miscalibration (smaller is better), discrimination (larger is better) and uncertainty (property of the data, same for all models)."
   ]
  },
  {
   "cell_type": "code",
   "execution_count": 26,
   "id": "acd89e59-0f24-4ee4-8582-c19f5ebbc56a",
   "metadata": {},
   "outputs": [
    {
     "data": {
      "text/html": [
       "<div>\n",
       "<style>\n",
       ".pl-dataframe > thead > tr > th {\n",
       "  text-align: right;\n",
       "}\n",
       "</style>\n",
       "\n",
       "<table border=\"1\" class=\"dataframe pl-dataframe\">\n",
       "<small>shape: (4, 5)</small>\n",
       "<thead>\n",
       "<tr>\n",
       "<th>\n",
       "model\n",
       "</th>\n",
       "<th>\n",
       "miscalibration\n",
       "</th>\n",
       "<th>\n",
       "discrimination\n",
       "</th>\n",
       "<th>\n",
       "uncertainty\n",
       "</th>\n",
       "<th>\n",
       "score\n",
       "</th>\n",
       "</tr>\n",
       "<tr>\n",
       "<td>\n",
       "str\n",
       "</td>\n",
       "<td>\n",
       "f64\n",
       "</td>\n",
       "<td>\n",
       "f64\n",
       "</td>\n",
       "<td>\n",
       "f64\n",
       "</td>\n",
       "<td>\n",
       "f64\n",
       "</td>\n",
       "</tr>\n",
       "</thead>\n",
       "<tbody>\n",
       "<tr>\n",
       "<td>\n",
       "&quot;Trivial&quot;\n",
       "</td>\n",
       "<td>\n",
       "0.000901\n",
       "</td>\n",
       "<td>\n",
       "8.8818e-16\n",
       "</td>\n",
       "<td>\n",
       "5.086002\n",
       "</td>\n",
       "<td>\n",
       "5.086903\n",
       "</td>\n",
       "</tr>\n",
       "<tr>\n",
       "<td>\n",
       "&quot;OLS&quot;\n",
       "</td>\n",
       "<td>\n",
       "0.271994\n",
       "</td>\n",
       "<td>\n",
       "1.605604\n",
       "</td>\n",
       "<td>\n",
       "5.086002\n",
       "</td>\n",
       "<td>\n",
       "3.752392\n",
       "</td>\n",
       "</tr>\n",
       "<tr>\n",
       "<td>\n",
       "&quot;GLM_Poisson&quot;\n",
       "</td>\n",
       "<td>\n",
       "0.470965\n",
       "</td>\n",
       "<td>\n",
       "1.624191\n",
       "</td>\n",
       "<td>\n",
       "5.086002\n",
       "</td>\n",
       "<td>\n",
       "3.932776\n",
       "</td>\n",
       "</tr>\n",
       "<tr>\n",
       "<td>\n",
       "&quot;HGBT_Poisson&quot;\n",
       "</td>\n",
       "<td>\n",
       "0.088114\n",
       "</td>\n",
       "<td>\n",
       "1.696757\n",
       "</td>\n",
       "<td>\n",
       "5.086002\n",
       "</td>\n",
       "<td>\n",
       "3.477359\n",
       "</td>\n",
       "</tr>\n",
       "</tbody>\n",
       "</table>\n",
       "</div>"
      ],
      "text/plain": [
       "shape: (4, 5)\n",
       "┌──────────────┬────────────────┬────────────────┬─────────────┬──────────┐\n",
       "│ model        ┆ miscalibration ┆ discrimination ┆ uncertainty ┆ score    │\n",
       "│ ---          ┆ ---            ┆ ---            ┆ ---         ┆ ---      │\n",
       "│ str          ┆ f64            ┆ f64            ┆ f64         ┆ f64      │\n",
       "╞══════════════╪════════════════╪════════════════╪═════════════╪══════════╡\n",
       "│ Trivial      ┆ 0.000901       ┆ 8.8818e-16     ┆ 5.086002    ┆ 5.086903 │\n",
       "│ OLS          ┆ 0.271994       ┆ 1.605604       ┆ 5.086002    ┆ 3.752392 │\n",
       "│ GLM_Poisson  ┆ 0.470965       ┆ 1.624191       ┆ 5.086002    ┆ 3.932776 │\n",
       "│ HGBT_Poisson ┆ 0.088114       ┆ 1.696757       ┆ 5.086002    ┆ 3.477359 │\n",
       "└──────────────┴────────────────┴────────────────┴─────────────┴──────────┘"
      ]
     },
     "execution_count": 26,
     "metadata": {},
     "output_type": "execute_result"
    }
   ],
   "source": [
    "import polars as pl\n",
    "from model_diagnostics.scoring import GammaDeviance, decompose\n",
    "\n",
    "\n",
    "gamma_deviance = GammaDeviance()\n",
    "\n",
    "df_list = []\n",
    "for model in [\"Trivial\", \"OLS\", \"GLM_Poisson\", \"HGBT_Poisson\"]:\n",
    "    df = decompose(\n",
    "        scoring_function=gamma_deviance,\n",
    "        y_obs=y_test,\n",
    "        y_pred=df_pred_test[model],\n",
    "    )\n",
    "    df = df.with_columns(pl.lit(model).alias(\"model\"))\n",
    "    df_list.append(df)\n",
    "df = pl.concat(df_list).select(\n",
    "    [\"model\", \"miscalibration\", \"discrimination\", \"uncertainty\", \"score\"]\n",
    ")\n",
    "df"
   ]
  },
  {
   "attachments": {},
   "cell_type": "markdown",
   "id": "8a34fbe9",
   "metadata": {},
   "source": [
    "First, the HGBT model has the best (smallest) overall Gamma deviance (score).\n",
    "We also see that the uncertainty term is model independent as it is a property of the data and the scoring function only.\n",
    "The deciding difference of the scores stems from the miscalibration term.\n",
    "Except for the trivial model, the HGBT model has the best (smallest) one.\n",
    "The discrimination term (larger is better) is quite similar among the non-trivial models."
   ]
  }
 ],
 "metadata": {
  "kernelspec": {
   "display_name": "Python 3 (ipykernel)",
   "language": "python",
   "name": "python3"
  },
  "language_info": {
   "codemirror_mode": {
    "name": "ipython",
    "version": 3
   },
   "file_extension": ".py",
   "mimetype": "text/x-python",
   "name": "python",
   "nbconvert_exporter": "python",
   "pygments_lexer": "ipython3",
   "version": "3.10.8"
  },
  "vscode": {
   "interpreter": {
    "hash": "96b0fa0ec69a2f08511d770c35d8e462f16e1f34df81292631ff071c65461c9e"
   }
  }
 },
 "nbformat": 4,
 "nbformat_minor": 5
}
