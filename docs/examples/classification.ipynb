{
 "cells": [
  {
   "cell_type": "markdown",
   "metadata": {},
   "source": [
    "# Classification on Nursery Dataset\n",
    "This notebook demonstrates model diagnostics on the nursery dataset https://www.openml.org/d/43938, originally https://doi.org/10.24432/C5P88W.\n",
    "\n",
    "The response variable ```class``` can assume five different values: \n",
    "\n",
    "*not_recom*, *recommend*, *very_recom*, *priority*, *spec_prior* .\n",
    "\n",
    "Our modelling goal is to estimate the conditional probability of $Y=1$, i.e. $P(Y=1|X)$, where $X$ are the features and $Y$ is defined as\n",
    "$$\n",
    "Y\n",
    "= \n",
    "\\begin{cases}\n",
    "1 \\text{ if class} \\in \\text{\\{priority, special priority\\}}\\\\\n",
    "0 \\text{ if otherwise }\n",
    "\\end{cases}\n",
    "$$\n",
    "\n",
    "Note is made that for binary classification $E(Y|X) = P(Y=1|X)$, that is, the conditional expected value equals the conditional probability of $Y$ being equal to one.\n",
    "\n",
    "The impatient reader can directly jump to chapters 3-4 where the capability of `model-diagnostics` are shown.\n",
    "Chapters 1-2 are needed for data preparation and model training."
   ]
  },
  {
   "cell_type": "markdown",
   "metadata": {},
   "source": [
    "## 1. Data\n",
    "### 1.1 Data Load and Preprocessing"
   ]
  },
  {
   "cell_type": "code",
   "execution_count": 1,
   "metadata": {},
   "outputs": [],
   "source": [
    "import pandas as pd\n",
    "import numpy as np\n",
    "from sklearn.datasets import fetch_openml\n",
    "from sklearn.model_selection import train_test_split"
   ]
  },
  {
   "cell_type": "code",
   "execution_count": 2,
   "metadata": {},
   "outputs": [],
   "source": [
    "X, y = fetch_openml(data_id=43938, as_frame=True, return_X_y=True, parser=\"auto\")\n",
    "df_original = pd.concat([X, y], axis=1)"
   ]
  },
  {
   "cell_type": "code",
   "execution_count": 3,
   "metadata": {},
   "outputs": [
    {
     "data": {
      "text/plain": [
       "class\n",
       "not_recom     4320\n",
       "priority      4266\n",
       "spec_prior    4044\n",
       "very_recom     328\n",
       "recommend        2\n",
       "Name: count, dtype: int64"
      ]
     },
     "execution_count": 3,
     "metadata": {},
     "output_type": "execute_result"
    }
   ],
   "source": [
    "df_original[\"class\"].value_counts()"
   ]
  },
  {
   "cell_type": "code",
   "execution_count": 4,
   "metadata": {},
   "outputs": [
    {
     "name": "stdout",
     "output_type": "stream",
     "text": [
      "The prepared dataset contains 12960 rows.\n"
     ]
    }
   ],
   "source": [
    "df = df_original.copy()\n",
    "df[\"binary_response\"] = df[\"class\"].isin([\"priority\", \"spec_prior\"])\n",
    "y_var = \"binary_response\"\n",
    "x_vars = X.columns\n",
    "print(f\"The prepared dataset contains {df.shape[0]} rows.\")"
   ]
  },
  {
   "cell_type": "code",
   "execution_count": 5,
   "metadata": {},
   "outputs": [
    {
     "data": {
      "text/html": [
       "<div>\n",
       "<style scoped>\n",
       "    .dataframe tbody tr th:only-of-type {\n",
       "        vertical-align: middle;\n",
       "    }\n",
       "\n",
       "    .dataframe tbody tr th {\n",
       "        vertical-align: top;\n",
       "    }\n",
       "\n",
       "    .dataframe thead th {\n",
       "        text-align: right;\n",
       "    }\n",
       "</style>\n",
       "<table border=\"1\" class=\"dataframe\">\n",
       "  <thead>\n",
       "    <tr style=\"text-align: right;\">\n",
       "      <th></th>\n",
       "      <th>parents</th>\n",
       "      <th>has_nurs</th>\n",
       "      <th>form</th>\n",
       "      <th>children</th>\n",
       "      <th>housing</th>\n",
       "      <th>finance</th>\n",
       "      <th>social</th>\n",
       "      <th>health</th>\n",
       "      <th>class</th>\n",
       "      <th>binary_response</th>\n",
       "    </tr>\n",
       "  </thead>\n",
       "  <tbody>\n",
       "    <tr>\n",
       "      <th>0</th>\n",
       "      <td>usual</td>\n",
       "      <td>proper</td>\n",
       "      <td>complete</td>\n",
       "      <td>1</td>\n",
       "      <td>convenient</td>\n",
       "      <td>convenient</td>\n",
       "      <td>nonprob</td>\n",
       "      <td>recommended</td>\n",
       "      <td>recommend</td>\n",
       "      <td>False</td>\n",
       "    </tr>\n",
       "    <tr>\n",
       "      <th>1</th>\n",
       "      <td>usual</td>\n",
       "      <td>proper</td>\n",
       "      <td>complete</td>\n",
       "      <td>1</td>\n",
       "      <td>convenient</td>\n",
       "      <td>convenient</td>\n",
       "      <td>nonprob</td>\n",
       "      <td>priority</td>\n",
       "      <td>priority</td>\n",
       "      <td>True</td>\n",
       "    </tr>\n",
       "    <tr>\n",
       "      <th>2</th>\n",
       "      <td>usual</td>\n",
       "      <td>proper</td>\n",
       "      <td>complete</td>\n",
       "      <td>1</td>\n",
       "      <td>convenient</td>\n",
       "      <td>convenient</td>\n",
       "      <td>nonprob</td>\n",
       "      <td>not_recom</td>\n",
       "      <td>not_recom</td>\n",
       "      <td>False</td>\n",
       "    </tr>\n",
       "    <tr>\n",
       "      <th>3</th>\n",
       "      <td>usual</td>\n",
       "      <td>proper</td>\n",
       "      <td>complete</td>\n",
       "      <td>1</td>\n",
       "      <td>convenient</td>\n",
       "      <td>convenient</td>\n",
       "      <td>slightly_prob</td>\n",
       "      <td>recommended</td>\n",
       "      <td>recommend</td>\n",
       "      <td>False</td>\n",
       "    </tr>\n",
       "    <tr>\n",
       "      <th>4</th>\n",
       "      <td>usual</td>\n",
       "      <td>proper</td>\n",
       "      <td>complete</td>\n",
       "      <td>1</td>\n",
       "      <td>convenient</td>\n",
       "      <td>convenient</td>\n",
       "      <td>slightly_prob</td>\n",
       "      <td>priority</td>\n",
       "      <td>priority</td>\n",
       "      <td>True</td>\n",
       "    </tr>\n",
       "  </tbody>\n",
       "</table>\n",
       "</div>"
      ],
      "text/plain": [
       "  parents has_nurs      form children     housing     finance         social  \\\n",
       "0   usual   proper  complete        1  convenient  convenient        nonprob   \n",
       "1   usual   proper  complete        1  convenient  convenient        nonprob   \n",
       "2   usual   proper  complete        1  convenient  convenient        nonprob   \n",
       "3   usual   proper  complete        1  convenient  convenient  slightly_prob   \n",
       "4   usual   proper  complete        1  convenient  convenient  slightly_prob   \n",
       "\n",
       "        health      class  binary_response  \n",
       "0  recommended  recommend            False  \n",
       "1     priority   priority             True  \n",
       "2    not_recom  not_recom            False  \n",
       "3  recommended  recommend            False  \n",
       "4     priority   priority             True  "
      ]
     },
     "execution_count": 5,
     "metadata": {},
     "output_type": "execute_result"
    }
   ],
   "source": [
    "df.head()"
   ]
  },
  {
   "cell_type": "markdown",
   "metadata": {},
   "source": [
    "### 1.2 Contingency tables"
   ]
  },
  {
   "cell_type": "markdown",
   "metadata": {},
   "source": [
    "4320 + 4320 = 8640 observations can be perfectly predicted using the feature *health*, as we can see in the contingency table below:"
   ]
  },
  {
   "cell_type": "code",
   "execution_count": 6,
   "metadata": {},
   "outputs": [
    {
     "name": "stdout",
     "output_type": "stream",
     "text": [
      "Contingency Table:\n"
     ]
    },
    {
     "data": {
      "text/html": [
       "<div>\n",
       "<style scoped>\n",
       "    .dataframe tbody tr th:only-of-type {\n",
       "        vertical-align: middle;\n",
       "    }\n",
       "\n",
       "    .dataframe tbody tr th {\n",
       "        vertical-align: top;\n",
       "    }\n",
       "\n",
       "    .dataframe thead th {\n",
       "        text-align: right;\n",
       "    }\n",
       "</style>\n",
       "<table border=\"1\" class=\"dataframe\">\n",
       "  <thead>\n",
       "    <tr style=\"text-align: right;\">\n",
       "      <th>binary_response</th>\n",
       "      <th>False</th>\n",
       "      <th>True</th>\n",
       "    </tr>\n",
       "    <tr>\n",
       "      <th>health</th>\n",
       "      <th></th>\n",
       "      <th></th>\n",
       "    </tr>\n",
       "  </thead>\n",
       "  <tbody>\n",
       "    <tr>\n",
       "      <th>not_recom</th>\n",
       "      <td>4320</td>\n",
       "      <td>0</td>\n",
       "    </tr>\n",
       "    <tr>\n",
       "      <th>priority</th>\n",
       "      <td>0</td>\n",
       "      <td>4320</td>\n",
       "    </tr>\n",
       "    <tr>\n",
       "      <th>recommended</th>\n",
       "      <td>330</td>\n",
       "      <td>3990</td>\n",
       "    </tr>\n",
       "  </tbody>\n",
       "</table>\n",
       "</div>"
      ],
      "text/plain": [
       "binary_response  False  True \n",
       "health                       \n",
       "not_recom         4320      0\n",
       "priority             0   4320\n",
       "recommended        330   3990"
      ]
     },
     "execution_count": 6,
     "metadata": {},
     "output_type": "execute_result"
    }
   ],
   "source": [
    "contingency_table = pd.crosstab(df[\"health\"], df['binary_response'])    \n",
    "print(\"Contingency Table:\")\n",
    "contingency_table"
   ]
  },
  {
   "cell_type": "markdown",
   "metadata": {},
   "source": [
    "By further looking into the other features of the observations where $health=\\text{recommended}$ we can see if one can completely predict the response variable using the other covariates as well.\n",
    "\n",
    "We automate this procedure in section 2.3 by fitting a decision tree."
   ]
  },
  {
   "cell_type": "markdown",
   "metadata": {},
   "source": [
    "### 1.3 Data Split"
   ]
  },
  {
   "cell_type": "code",
   "execution_count": 7,
   "metadata": {},
   "outputs": [],
   "source": [
    "df_train, df_test = train_test_split(df, train_size=0.75, random_state=1234321)\n",
    "df = (\n",
    "    pd.concat((df_train, df_test), axis=0, keys=(\"train\", \"test\"))\n",
    "    .reset_index(level=0)\n",
    "    .rename(columns={\"level_0\": \"split\"})\n",
    ")\n",
    "\n",
    "y_train, y_test = df_train[y_var].astype(float), df_test[y_var].astype(float)\n",
    "X_train, X_test = df_train[x_vars], df_test[x_vars]"
   ]
  },
  {
   "cell_type": "markdown",
   "metadata": {},
   "source": [
    "We check whether the split results in two approximately identically distributed samples."
   ]
  },
  {
   "cell_type": "code",
   "execution_count": 8,
   "metadata": {},
   "outputs": [
    {
     "data": {
      "text/html": [
       "<div>\n",
       "<style scoped>\n",
       "    .dataframe tbody tr th:only-of-type {\n",
       "        vertical-align: middle;\n",
       "    }\n",
       "\n",
       "    .dataframe tbody tr th {\n",
       "        vertical-align: top;\n",
       "    }\n",
       "\n",
       "    .dataframe thead th {\n",
       "        text-align: right;\n",
       "    }\n",
       "</style>\n",
       "<table border=\"1\" class=\"dataframe\">\n",
       "  <thead>\n",
       "    <tr style=\"text-align: right;\">\n",
       "      <th></th>\n",
       "      <th>binary_response</th>\n",
       "    </tr>\n",
       "    <tr>\n",
       "      <th>split</th>\n",
       "      <th></th>\n",
       "    </tr>\n",
       "  </thead>\n",
       "  <tbody>\n",
       "    <tr>\n",
       "      <th>test</th>\n",
       "      <td>0.636420</td>\n",
       "    </tr>\n",
       "    <tr>\n",
       "      <th>train</th>\n",
       "      <td>0.642798</td>\n",
       "    </tr>\n",
       "  </tbody>\n",
       "</table>\n",
       "</div>"
      ],
      "text/plain": [
       "       binary_response\n",
       "split                 \n",
       "test          0.636420\n",
       "train         0.642798"
      ]
     },
     "execution_count": 8,
     "metadata": {},
     "output_type": "execute_result"
    }
   ],
   "source": [
    "df.groupby(\"split\")[[\"binary_response\"]].mean()"
   ]
  },
  {
   "cell_type": "markdown",
   "metadata": {},
   "source": [
    "## 2. Models\n",
    "Our modelling goal is to estimate the conditional probability of $Y=1$, i.e. $P(Y=1|X)$ and we will finally evaluate the models with the log loss $$S(y, z) = -y\\log(z) - (1 - y) \\log (1 - z)$$\n",
    "### 2.1 The trivial model"
   ]
  },
  {
   "cell_type": "code",
   "execution_count": 9,
   "metadata": {},
   "outputs": [],
   "source": [
    "from sklearn.dummy import DummyClassifier\n",
    "\n",
    "\n",
    "m_trivial = DummyClassifier(strategy=\"prior\").fit(X_train, y_train)"
   ]
  },
  {
   "cell_type": "markdown",
   "metadata": {},
   "source": [
    "### 2.2 Logistic\n",
    "\n",
    "Here, we train a Logistic Regression model."
   ]
  },
  {
   "cell_type": "code",
   "execution_count": 10,
   "metadata": {},
   "outputs": [],
   "source": [
    "from sklearn.compose import ColumnTransformer\n",
    "from sklearn.preprocessing import OneHotEncoder\n",
    "from sklearn.pipeline import Pipeline\n",
    "from sklearn.linear_model import LogisticRegression\n",
    "\n",
    "\n",
    "x_discrete = [\"parents\", \"has_nurs\", \"form\", \"children\",\n",
    "              \"housing\", \"finance\", \"social\", \"health\"]\n",
    "# ColumnTransformer for linear models\n",
    "col_trans_cat = ColumnTransformer(\n",
    "    [\n",
    "        (\n",
    "            \"categorical_features\",\n",
    "            OneHotEncoder(drop=\"first\", sparse_output=False),\n",
    "            x_discrete\n",
    "        ),\n",
    "    ]\n",
    ")\n",
    "m_logistic = Pipeline(\n",
    "    [\n",
    "        (\"column_transformer\", col_trans_cat),\n",
    "        (\n",
    "            \"model\",\n",
    "            LogisticRegression(penalty=None,\n",
    "                               solver=\"newton-cholesky\"\n",
    "                               )\n",
    "        ),\n",
    "    ]\n",
    ").fit(X_train, y_train)\n"
   ]
  },
  {
   "cell_type": "markdown",
   "metadata": {},
   "source": [
    "We can have a look at the model coefficients."
   ]
  },
  {
   "cell_type": "code",
   "execution_count": 11,
   "metadata": {},
   "outputs": [
    {
     "data": {
      "text/html": [
       "<div>\n",
       "<style scoped>\n",
       "    .dataframe tbody tr th:only-of-type {\n",
       "        vertical-align: middle;\n",
       "    }\n",
       "\n",
       "    .dataframe tbody tr th {\n",
       "        vertical-align: top;\n",
       "    }\n",
       "\n",
       "    .dataframe thead th {\n",
       "        text-align: right;\n",
       "    }\n",
       "</style>\n",
       "<table border=\"1\" class=\"dataframe\">\n",
       "  <thead>\n",
       "    <tr style=\"text-align: right;\">\n",
       "      <th></th>\n",
       "      <th>coefficient</th>\n",
       "      <th>value</th>\n",
       "    </tr>\n",
       "  </thead>\n",
       "  <tbody>\n",
       "    <tr>\n",
       "      <th>3</th>\n",
       "      <td>categorical_features__has_nurs_less_proper</td>\n",
       "      <td>-11.857906</td>\n",
       "    </tr>\n",
       "    <tr>\n",
       "      <th>4</th>\n",
       "      <td>categorical_features__has_nurs_proper</td>\n",
       "      <td>-11.849024</td>\n",
       "    </tr>\n",
       "    <tr>\n",
       "      <th>1</th>\n",
       "      <td>categorical_features__parents_usual</td>\n",
       "      <td>-11.532055</td>\n",
       "    </tr>\n",
       "    <tr>\n",
       "      <th>0</th>\n",
       "      <td>categorical_features__parents_pretentious</td>\n",
       "      <td>-10.116730</td>\n",
       "    </tr>\n",
       "    <tr>\n",
       "      <th>...</th>\n",
       "      <td>...</td>\n",
       "      <td>...</td>\n",
       "    </tr>\n",
       "    <tr>\n",
       "      <th>12</th>\n",
       "      <td>categorical_features__housing_critical</td>\n",
       "      <td>5.707804</td>\n",
       "    </tr>\n",
       "    <tr>\n",
       "      <th>15</th>\n",
       "      <td>categorical_features__social_problematic</td>\n",
       "      <td>11.130701</td>\n",
       "    </tr>\n",
       "    <tr>\n",
       "      <th>18</th>\n",
       "      <td>categorical_features__health_recommended</td>\n",
       "      <td>47.231852</td>\n",
       "    </tr>\n",
       "    <tr>\n",
       "      <th>17</th>\n",
       "      <td>categorical_features__health_priority</td>\n",
       "      <td>59.699965</td>\n",
       "    </tr>\n",
       "  </tbody>\n",
       "</table>\n",
       "<p>19 rows × 2 columns</p>\n",
       "</div>"
      ],
      "text/plain": [
       "                                   coefficient      value\n",
       "3   categorical_features__has_nurs_less_proper -11.857906\n",
       "4        categorical_features__has_nurs_proper -11.849024\n",
       "1          categorical_features__parents_usual -11.532055\n",
       "0    categorical_features__parents_pretentious -10.116730\n",
       "..                                         ...        ...\n",
       "12      categorical_features__housing_critical   5.707804\n",
       "15    categorical_features__social_problematic  11.130701\n",
       "18    categorical_features__health_recommended  47.231852\n",
       "17       categorical_features__health_priority  59.699965\n",
       "\n",
       "[19 rows x 2 columns]"
      ]
     },
     "metadata": {},
     "output_type": "display_data"
    }
   ],
   "source": [
    "feature_names = m_logistic[:-1].get_feature_names_out()\n",
    "model_coefs = m_logistic.steps[-1][1].coef_.squeeze()\n",
    "model_coefs = pd.DataFrame({\"coefficient\": feature_names, \"value\": model_coefs} ).sort_values(by=\"value\")\n",
    "with pd.option_context(\"display.max_rows\", 8):\n",
    "    display(model_coefs)"
   ]
  },
  {
   "cell_type": "markdown",
   "metadata": {},
   "source": [
    "### 2.3 Decision Tree\n",
    "We will now train a `DecisionTreeClassifier` with default parameters, so no hyperparameter optimization."
   ]
  },
  {
   "cell_type": "code",
   "execution_count": 12,
   "metadata": {},
   "outputs": [
    {
     "name": "stdout",
     "output_type": "stream",
     "text": [
      "CPU times: user 254 ms, sys: 12.3 ms, total: 266 ms\n",
      "Wall time: 230 ms\n"
     ]
    },
    {
     "data": {
      "image/png": "[encoded data removed]",
      "text/plain": [
       "<Figure size 640x480 with 1 Axes>"
      ]
     },
     "metadata": {},
     "output_type": "display_data"
    }
   ],
   "source": [
    "%%time\n",
    "from sklearn.preprocessing import OrdinalEncoder\n",
    "from sklearn.tree import DecisionTreeClassifier, plot_tree\n",
    "col_trans_bt = ColumnTransformer(\n",
    "    [\n",
    "        (\"categorical_features\", OrdinalEncoder(), x_discrete),\n",
    "    ]\n",
    ")\n",
    "m_tree = Pipeline(\n",
    "    [\n",
    "        (\"column_transformer\", col_trans_bt),\n",
    "        (\n",
    "            \"model\", DecisionTreeClassifier(\n",
    "                criterion=\"log_loss\",\n",
    "            )\n",
    "        ),\n",
    "    ]\n",
    ").fit(X_train, y_train)\n",
    "\n",
    "plot_tree(m_tree.steps[-1][1], feature_names=list(X_train.columns), max_depth=3);"
   ]
  },
  {
   "cell_type": "markdown",
   "metadata": {},
   "source": [
    "The reading of the tree structure is difficult due to the ordinal encoding, however we can see that the first two splits have been performed as we previously did \"by hand\" on the feature *health*."
   ]
  },
  {
   "cell_type": "markdown",
   "metadata": {},
   "source": [
    "We output the depth of the tree since we plotted only until depth=3:"
   ]
  },
  {
   "cell_type": "code",
   "execution_count": 13,
   "metadata": {},
   "outputs": [
    {
     "data": {
      "text/plain": [
       "15"
      ]
     },
     "execution_count": 13,
     "metadata": {},
     "output_type": "execute_result"
    }
   ],
   "source": [
    "m_tree.steps[-1][1].get_depth()"
   ]
  },
  {
   "cell_type": "markdown",
   "metadata": {},
   "source": [
    "As the fitted decision tree has a large depth, we check how many samples are in each leaf."
   ]
  },
  {
   "cell_type": "code",
   "execution_count": 14,
   "metadata": {},
   "outputs": [
    {
     "name": "stdout",
     "output_type": "stream",
     "text": [
      "Samples in each leaf node: [3223, 3245, 1090, 443, 12, 16, 47, 67, 15, 13, 50, 2, 2, 10, 22, 3, 2, 14, 26, 4, 5, 1, 1, 3, 15, 102, 2, 1, 4, 7, 2, 2, 6, 28, 169, 7, 8, 22, 34, 5, 5, 22, 56, 1, 2, 7, 8, 2, 1, 7, 25, 438, 416]\n"
     ]
    }
   ],
   "source": [
    "# Get the leaf node assignments for each sample\n",
    "leaf_ids = m_tree.steps[-1][1].apply(col_trans_bt.fit_transform(X_train))\n",
    "\n",
    "# Count the samples in each leaf node\n",
    "unique_leaf_ids = np.unique(leaf_ids)\n",
    "leaf_samples = [np.sum(leaf_ids == node_id) for node_id in unique_leaf_ids]\n",
    "\n",
    "print(\"Samples in each leaf node:\", leaf_samples)"
   ]
  },
  {
   "cell_type": "markdown",
   "metadata": {},
   "source": [
    "Some leaf nodes have only one sample."
   ]
  },
  {
   "cell_type": "markdown",
   "metadata": {},
   "source": [
    "### 2.4 Gradient Boosted Decision Trees\n",
    "\n",
    "We will now train a `HistGradientBoostingClassifier`."
   ]
  },
  {
   "cell_type": "code",
   "execution_count": 15,
   "metadata": {},
   "outputs": [
    {
     "name": "stdout",
     "output_type": "stream",
     "text": [
      "CPU times: user 57.4 s, sys: 1.07 s, total: 58.4 s\n",
      "Wall time: 10.9 s\n"
     ]
    }
   ],
   "source": [
    "%%time\n",
    "# Note that this cell might take a little while.\n",
    "from sklearn.experimental import enable_halving_search_cv\n",
    "from sklearn.model_selection import HalvingGridSearchCV\n",
    "from sklearn.ensemble import HistGradientBoostingClassifier\n",
    "\n",
    "m_hgbt_base = Pipeline(\n",
    "    [\n",
    "        (\"column_transformer\", col_trans_bt),\n",
    "        (\n",
    "            \"model\", HistGradientBoostingClassifier(\n",
    "                loss=\"log_loss\",\n",
    "                categorical_features=list(range(len(x_discrete))),\n",
    "                max_iter=100,\n",
    "                early_stopping=True,\n",
    "                random_state=33,\n",
    "                validation_fraction=0.2,\n",
    "            )\n",
    "        ),\n",
    "    ]\n",
    ")\n",
    "\n",
    "param_grid = {\n",
    "    \"model__learning_rate\": [0.6, 0.7, 0.8, 0.9, 1.0],  # quite large\n",
    "    \"model__l2_regularization\": [0, 1e-4, 1e-3],\n",
    "    \"model__max_depth\": [10, 15, 20],\n",
    "    \"model__min_samples_leaf\": [1, 2, 5, 10, 20, 30, 40]\n",
    "}\n",
    "\n",
    "\n",
    "# successive halfing grid search (CV) on the training data\n",
    "shgs = HalvingGridSearchCV(\n",
    "    m_hgbt_base,\n",
    "    param_grid=param_grid,\n",
    "    cv=2,\n",
    "    scoring=\"neg_log_loss\",\n",
    "    random_state=321,\n",
    ").fit(X_train, y_train)\n",
    "\n",
    "m_hgbt = shgs.best_estimator_"
   ]
  },
  {
   "cell_type": "code",
   "execution_count": 16,
   "metadata": {},
   "outputs": [
    {
     "data": {
      "text/plain": [
       "({'model__l2_regularization': 0,\n",
       "  'model__learning_rate': 0.7,\n",
       "  'model__max_depth': 15,\n",
       "  'model__min_samples_leaf': 1},\n",
       " -0.025190384482241715)"
      ]
     },
     "execution_count": 16,
     "metadata": {},
     "output_type": "execute_result"
    }
   ],
   "source": [
    "shgs.best_params_, shgs.best_score_"
   ]
  },
  {
   "cell_type": "code",
   "execution_count": 17,
   "metadata": {},
   "outputs": [
    {
     "data": {
      "text/plain": [
       "43"
      ]
     },
     "execution_count": 17,
     "metadata": {},
     "output_type": "execute_result"
    }
   ],
   "source": [
    "m_hgbt[-1].n_iter_"
   ]
  },
  {
   "cell_type": "markdown",
   "metadata": {},
   "source": [
    "## 3. Calibration Assessment\n",
    "To make the code easier, we put together the predictions of all of our models on the test set in a single dataframe."
   ]
  },
  {
   "cell_type": "code",
   "execution_count": 18,
   "metadata": {},
   "outputs": [],
   "source": [
    "models = [m_trivial, m_logistic, m_tree, m_hgbt]\n",
    "df_pred_test = pd.DataFrame(\n",
    "    np.array([m.predict_proba(X_test)[:, 1] for m in models]).T, columns=[\"Trivial\", \"Logistic\", \"Tree\", \"HGBT\"]\n",
    "    )"
   ]
  },
  {
   "cell_type": "markdown",
   "metadata": {},
   "source": [
    "## 3.1. Reliability Diagrams\n",
    "A reliability diagram plots an estimation of $E(Y|m(X))$ versus $m(X)$ and therefore assesses auto-calibration.\n",
    "Good auto-calibration is seen by closeness to the diagonal depicted as dotted line.\n",
    "\n",
    "A good way to estimate $E(Y|m(X))$ and thereby avoiding manual binning is by isotonic regression.\n",
    "This is implemented in `plot_reliability_diagram`."
   ]
  },
  {
   "cell_type": "code",
   "execution_count": 19,
   "metadata": {},
   "outputs": [],
   "source": [
    "import matplotlib.pyplot as plt\n",
    "from model_diagnostics.calibration import compute_bias, plot_bias, plot_reliability_diagram"
   ]
  },
  {
   "cell_type": "code",
   "execution_count": 20,
   "metadata": {},
   "outputs": [
    {
     "data": {
      "image/png": "[encoded data removed]",
      "text/plain": [
       "<Figure size 800x800 with 1 Axes>"
      ]
     },
     "metadata": {},
     "output_type": "display_data"
    }
   ],
   "source": [
    "fig, ax = plt.subplots(figsize=(8, 8))\n",
    "plot_reliability_diagram(\n",
    "    y_obs=y_test,\n",
    "    y_pred=df_pred_test[[\"Logistic\", \"Tree\", \"HGBT\"]],\n",
    "    n_bootstrap=100,\n",
    "    ax=ax,\n",
    ");"
   ]
  },
  {
   "cell_type": "markdown",
   "metadata": {},
   "source": [
    "Both the tree model and the HGBT model are close to be auto-calibrated, i.e. the information in the model $m(X)$ can be used to predict $E(Y|m(X))$."
   ]
  },
  {
   "cell_type": "markdown",
   "metadata": {},
   "source": [
    "### 3.2 Conditional Bias\n",
    "#### Unconditional Bias"
   ]
  },
  {
   "cell_type": "code",
   "execution_count": 21,
   "metadata": {},
   "outputs": [
    {
     "data": {
      "text/html": [
       "<div><style>\n",
       ".dataframe > thead > tr > th,\n",
       ".dataframe > tbody > tr > td {\n",
       "  text-align: right;\n",
       "  white-space: pre-wrap;\n",
       "}\n",
       "</style>\n",
       "<small>shape: (4, 6)</small><table border=\"1\" class=\"dataframe\"><thead><tr><th>model</th><th>bias_mean</th><th>bias_count</th><th>bias_weights</th><th>bias_stderr</th><th>p_value</th></tr><tr><td>str</td><td>f64</td><td>u32</td><td>f64</td><td>f64</td><td>f64</td></tr></thead><tbody><tr><td>&quot;Trivial&quot;</td><td>0.006379</td><td>3240</td><td>3240.0</td><td>0.008452</td><td>0.4505</td></tr><tr><td>&quot;Logistic&quot;</td><td>-0.001374</td><td>3240</td><td>3240.0</td><td>0.001493</td><td>0.357317</td></tr><tr><td>&quot;Tree&quot;</td><td>0.000309</td><td>3240</td><td>3240.0</td><td>0.000535</td><td>0.563783</td></tr><tr><td>&quot;HGBT&quot;</td><td>9.7800e-7</td><td>3240</td><td>3240.0</td><td>7.3720e-7</td><td>0.184722</td></tr></tbody></table></div>"
      ],
      "text/plain": [
       "shape: (4, 6)\n",
       "┌──────────┬───────────┬────────────┬──────────────┬─────────────┬──────────┐\n",
       "│ model    ┆ bias_mean ┆ bias_count ┆ bias_weights ┆ bias_stderr ┆ p_value  │\n",
       "│ ---      ┆ ---       ┆ ---        ┆ ---          ┆ ---         ┆ ---      │\n",
       "│ str      ┆ f64       ┆ u32        ┆ f64          ┆ f64         ┆ f64      │\n",
       "╞══════════╪═══════════╪════════════╪══════════════╪═════════════╪══════════╡\n",
       "│ Trivial  ┆ 0.006379  ┆ 3240       ┆ 3240.0       ┆ 0.008452    ┆ 0.4505   │\n",
       "│ Logistic ┆ -0.001374 ┆ 3240       ┆ 3240.0       ┆ 0.001493    ┆ 0.357317 │\n",
       "│ Tree     ┆ 0.000309  ┆ 3240       ┆ 3240.0       ┆ 0.000535    ┆ 0.563783 │\n",
       "│ HGBT     ┆ 9.7800e-7 ┆ 3240       ┆ 3240.0       ┆ 7.3720e-7   ┆ 0.184722 │\n",
       "└──────────┴───────────┴────────────┴──────────────┴─────────────┴──────────┘"
      ]
     },
     "execution_count": 21,
     "metadata": {},
     "output_type": "execute_result"
    }
   ],
   "source": [
    "compute_bias(\n",
    "    y_obs=y_test,\n",
    "    y_pred=df_pred_test,\n",
    "    feature=None,\n",
    ")"
   ]
  },
  {
   "cell_type": "markdown",
   "metadata": {},
   "source": [
    "#### Bias Conditional on parents"
   ]
  },
  {
   "cell_type": "code",
   "execution_count": 22,
   "metadata": {},
   "outputs": [
    {
     "data": {
      "text/html": [
       "<div><style>\n",
       ".dataframe > thead > tr > th,\n",
       ".dataframe > tbody > tr > td {\n",
       "  text-align: right;\n",
       "  white-space: pre-wrap;\n",
       "}\n",
       "</style>\n",
       "<small>shape: (12, 7)</small><table border=\"1\" class=\"dataframe\"><thead><tr><th>model</th><th>parents</th><th>bias_mean</th><th>bias_count</th><th>bias_weights</th><th>bias_stderr</th><th>p_value</th></tr><tr><td>str</td><td>cat</td><td>f64</td><td>u32</td><td>f64</td><td>f64</td><td>f64</td></tr></thead><tbody><tr><td>&quot;Trivial&quot;</td><td>&quot;great_pret&quot;</td><td>-0.009376</td><td>1104</td><td>1104.0</td><td>0.014341</td><td>0.513399</td></tr><tr><td>&quot;Trivial&quot;</td><td>&quot;pretentious&quot;</td><td>-0.00183</td><td>1089</td><td>1089.0</td><td>0.01451</td><td>0.899677</td></tr><tr><td>&quot;Trivial&quot;</td><td>&quot;usual&quot;</td><td>0.031528</td><td>1047</td><td>1047.0</td><td>0.015072</td><td>0.036696</td></tr><tr><td>&quot;Logistic&quot;</td><td>&quot;great_pret&quot;</td><td>-0.000006</td><td>1104</td><td>1104.0</td><td>0.000017</td><td>0.726384</td></tr><tr><td>&quot;Logistic&quot;</td><td>&quot;pretentious&quot;</td><td>0.000139</td><td>1089</td><td>1089.0</td><td>0.003114</td><td>0.964296</td></tr><tr><td>&quot;Logistic&quot;</td><td>&quot;usual&quot;</td><td>-0.004392</td><td>1047</td><td>1047.0</td><td>0.003295</td><td>0.1828</td></tr><tr><td>&quot;Tree&quot;</td><td>&quot;great_pret&quot;</td><td>0.0</td><td>1104</td><td>1104.0</td><td>0.0</td><td>0.0</td></tr><tr><td>&quot;Tree&quot;</td><td>&quot;pretentious&quot;</td><td>0.000918</td><td>1089</td><td>1089.0</td><td>0.001591</td><td>0.563942</td></tr><tr><td>&quot;Tree&quot;</td><td>&quot;usual&quot;</td><td>0.0</td><td>1047</td><td>1047.0</td><td>0.0</td><td>0.0</td></tr><tr><td>&quot;HGBT&quot;</td><td>&quot;great_pret&quot;</td><td>-4.5910e-8</td><td>1104</td><td>1104.0</td><td>3.2595e-8</td><td>0.159266</td></tr><tr><td>&quot;HGBT&quot;</td><td>&quot;pretentious&quot;</td><td>4.7698e-7</td><td>1089</td><td>1089.0</td><td>3.8154e-7</td><td>0.211509</td></tr><tr><td>&quot;HGBT&quot;</td><td>&quot;usual&quot;</td><td>0.000003</td><td>1047</td><td>1047.0</td><td>0.000002</td><td>0.251203</td></tr></tbody></table></div>"
      ],
      "text/plain": [
       "shape: (12, 7)\n",
       "┌──────────┬─────────────┬────────────┬────────────┬──────────────┬─────────────┬──────────┐\n",
       "│ model    ┆ parents     ┆ bias_mean  ┆ bias_count ┆ bias_weights ┆ bias_stderr ┆ p_value  │\n",
       "│ ---      ┆ ---         ┆ ---        ┆ ---        ┆ ---          ┆ ---         ┆ ---      │\n",
       "│ str      ┆ cat         ┆ f64        ┆ u32        ┆ f64          ┆ f64         ┆ f64      │\n",
       "╞══════════╪═════════════╪════════════╪════════════╪══════════════╪═════════════╪══════════╡\n",
       "│ Trivial  ┆ great_pret  ┆ -0.009376  ┆ 1104       ┆ 1104.0       ┆ 0.014341    ┆ 0.513399 │\n",
       "│ Trivial  ┆ pretentious ┆ -0.00183   ┆ 1089       ┆ 1089.0       ┆ 0.01451     ┆ 0.899677 │\n",
       "│ Trivial  ┆ usual       ┆ 0.031528   ┆ 1047       ┆ 1047.0       ┆ 0.015072    ┆ 0.036696 │\n",
       "│ Logistic ┆ great_pret  ┆ -0.000006  ┆ 1104       ┆ 1104.0       ┆ 0.000017    ┆ 0.726384 │\n",
       "│ …        ┆ …           ┆ …          ┆ …          ┆ …            ┆ …           ┆ …        │\n",
       "│ Tree     ┆ usual       ┆ 0.0        ┆ 1047       ┆ 1047.0       ┆ 0.0         ┆ 0.0      │\n",
       "│ HGBT     ┆ great_pret  ┆ -4.5910e-8 ┆ 1104       ┆ 1104.0       ┆ 3.2595e-8   ┆ 0.159266 │\n",
       "│ HGBT     ┆ pretentious ┆ 4.7698e-7  ┆ 1089       ┆ 1089.0       ┆ 3.8154e-7   ┆ 0.211509 │\n",
       "│ HGBT     ┆ usual       ┆ 0.000003   ┆ 1047       ┆ 1047.0       ┆ 0.000002    ┆ 0.251203 │\n",
       "└──────────┴─────────────┴────────────┴────────────┴──────────────┴─────────────┴──────────┘"
      ]
     },
     "execution_count": 22,
     "metadata": {},
     "output_type": "execute_result"
    }
   ],
   "source": [
    "compute_bias(\n",
    "    y_obs=y_test,\n",
    "    y_pred=df_pred_test,\n",
    "    feature=X_test[\"parents\"],\n",
    ")"
   ]
  },
  {
   "cell_type": "code",
   "execution_count": 23,
   "metadata": {},
   "outputs": [
    {
     "data": {
      "image/png": "[encoded data removed]",
      "text/plain": [
       "<Figure size 800x800 with 1 Axes>"
      ]
     },
     "metadata": {},
     "output_type": "display_data"
    }
   ],
   "source": [
    "fig, ax = plt.subplots(figsize=(8, 8))\n",
    "plot_bias(\n",
    "    y_obs=y_test,\n",
    "    y_pred=df_pred_test,\n",
    "    feature=X_test[\"parents\"],\n",
    "    confidence_level=0.8\n",
    ");"
   ]
  },
  {
   "cell_type": "markdown",
   "metadata": {},
   "source": [
    "## 4. Predictive Model Performance\n",
    "### 4.1 Score Decomposition of the Log Loss\n",
    "We use the [log loss](https://lorentzenchr.github.io/model-diagnostics/reference/model_diagnostics/scoring/scoring/#model_diagnostics.scoring.scoring.LogLoss) and evaluate on the test set.\n",
    "On top, we additively decompose the scores in terms of miscalibration (smaller is better), discrimination (larger is better) and uncertainty (property of the data, same for all models)."
   ]
  },
  {
   "cell_type": "code",
   "execution_count": 24,
   "metadata": {},
   "outputs": [
    {
     "data": {
      "text/html": [
       "<div><style>\n",
       ".dataframe > thead > tr > th,\n",
       ".dataframe > tbody > tr > td {\n",
       "  text-align: right;\n",
       "  white-space: pre-wrap;\n",
       "}\n",
       "</style>\n",
       "<small>shape: (4, 5)</small><table border=\"1\" class=\"dataframe\"><thead><tr><th>model</th><th>miscalibration</th><th>discrimination</th><th>uncertainty</th><th>score</th></tr><tr><td>str</td><td>f64</td><td>f64</td><td>f64</td><td>f64</td></tr></thead><tbody><tr><td>&quot;HGBT&quot;</td><td>0.000002</td><td>0.65545</td><td>0.65545</td><td>0.000002</td></tr><tr><td>&quot;Logistic&quot;</td><td>0.003509</td><td>0.635995</td><td>0.65545</td><td>0.022964</td></tr><tr><td>&quot;Trivial&quot;</td><td>0.000088</td><td>0.0</td><td>0.65545</td><td>0.655539</td></tr><tr><td>&quot;Tree&quot;</td><td>inf</td><td>0.648059</td><td>0.65545</td><td>inf</td></tr></tbody></table></div>"
      ],
      "text/plain": [
       "shape: (4, 5)\n",
       "┌──────────┬────────────────┬────────────────┬─────────────┬──────────┐\n",
       "│ model    ┆ miscalibration ┆ discrimination ┆ uncertainty ┆ score    │\n",
       "│ ---      ┆ ---            ┆ ---            ┆ ---         ┆ ---      │\n",
       "│ str      ┆ f64            ┆ f64            ┆ f64         ┆ f64      │\n",
       "╞══════════╪════════════════╪════════════════╪═════════════╪══════════╡\n",
       "│ HGBT     ┆ 0.000002       ┆ 0.65545        ┆ 0.65545     ┆ 0.000002 │\n",
       "│ Logistic ┆ 0.003509       ┆ 0.635995       ┆ 0.65545     ┆ 0.022964 │\n",
       "│ Trivial  ┆ 0.000088       ┆ 0.0            ┆ 0.65545     ┆ 0.655539 │\n",
       "│ Tree     ┆ inf            ┆ 0.648059       ┆ 0.65545     ┆ inf      │\n",
       "└──────────┴────────────────┴────────────────┴─────────────┴──────────┘"
      ]
     },
     "execution_count": 24,
     "metadata": {},
     "output_type": "execute_result"
    }
   ],
   "source": [
    "from model_diagnostics.scoring import LogLoss, decompose\n",
    "\n",
    "\n",
    "log_loss = LogLoss()\n",
    "\n",
    "df = decompose(\n",
    "    y_obs=y_test,\n",
    "    y_pred=df_pred_test,\n",
    "    scoring_function=log_loss,\n",
    ")\n",
    "df.sort([\"score\"])"
   ]
  },
  {
   "cell_type": "markdown",
   "metadata": {},
   "source": [
    "First, the HGBT model has the best (smallest) log loss in column **score**.\n",
    "We also see that the uncertainty term is model independent as it is a property of the data and the scoring function only.\n",
    "\n",
    "The HGBT model is superior compared to the logistic and to the tree model both in terms of the **miscalibration** (lower) and of the **discrimination** (higher).\n",
    "\n",
    "The good performance of the tree-based models might suggest that the data was also \"generated\" following a tree-like approach, whose logic the models can then learn given that all the required covariates are available."
   ]
  },
  {
   "cell_type": "markdown",
   "metadata": {},
   "source": [
    "### 4.2 Murphy Diagram\n",
    "How does the ranking of the model performances change with other scoring functions?\n",
    "Is one model dominating the others for a wide range of scoring functions?\n",
    "Such questions can be handily answered by a Murphy diagram.\n",
    "It plots the mean score for a wide range of elementary scoring functions, parametrized by `eta` on the x-axis.\n",
    "We explicitly specify the `etas` to zoom into the range where differences can be spotted."
   ]
  },
  {
   "cell_type": "code",
   "execution_count": 25,
   "metadata": {},
   "outputs": [
    {
     "data": {
      "image/png": "[encoded data removed]",
      "text/plain": [
       "<Figure size 800x800 with 1 Axes>"
      ]
     },
     "metadata": {},
     "output_type": "display_data"
    }
   ],
   "source": [
    "from model_diagnostics.scoring import SquaredError, plot_murphy_diagram\n",
    "\n",
    "fig, ax = plt.subplots(figsize=(8, 8))\n",
    "plot_murphy_diagram(\n",
    "    y_obs=y_test,\n",
    "    y_pred=df_pred_test.loc[:, [\"Logistic\", \"Tree\", \"HGBT\"]],\n",
    "    etas=100,\n",
    ");"
   ]
  },
  {
   "cell_type": "markdown",
   "metadata": {},
   "source": [
    "The HGBT model has the best performance, also when measured with the squared error"
   ]
  },
  {
   "cell_type": "code",
   "execution_count": 26,
   "metadata": {},
   "outputs": [
    {
     "data": {
      "text/html": [
       "<div><style>\n",
       ".dataframe > thead > tr > th,\n",
       ".dataframe > tbody > tr > td {\n",
       "  text-align: right;\n",
       "  white-space: pre-wrap;\n",
       "}\n",
       "</style>\n",
       "<small>shape: (4, 5)</small><table border=\"1\" class=\"dataframe\"><thead><tr><th>model</th><th>miscalibration</th><th>discrimination</th><th>uncertainty</th><th>score</th></tr><tr><td>str</td><td>f64</td><td>f64</td><td>f64</td><td>f64</td></tr></thead><tbody><tr><td>&quot;HGBT&quot;</td><td>1.7612e-9</td><td>0.23139</td><td>0.23139</td><td>1.7612e-9</td></tr><tr><td>&quot;Tree&quot;</td><td>8.6066e-7</td><td>0.230465</td><td>0.23139</td><td>0.000926</td></tr><tr><td>&quot;Logistic&quot;</td><td>0.000862</td><td>0.22503</td><td>0.23139</td><td>0.007221</td></tr><tr><td>&quot;Trivial&quot;</td><td>0.000041</td><td>0.0</td><td>0.23139</td><td>0.23143</td></tr></tbody></table></div>"
      ],
      "text/plain": [
       "shape: (4, 5)\n",
       "┌──────────┬────────────────┬────────────────┬─────────────┬───────────┐\n",
       "│ model    ┆ miscalibration ┆ discrimination ┆ uncertainty ┆ score     │\n",
       "│ ---      ┆ ---            ┆ ---            ┆ ---         ┆ ---       │\n",
       "│ str      ┆ f64            ┆ f64            ┆ f64         ┆ f64       │\n",
       "╞══════════╪════════════════╪════════════════╪═════════════╪═══════════╡\n",
       "│ HGBT     ┆ 1.7612e-9      ┆ 0.23139        ┆ 0.23139     ┆ 1.7612e-9 │\n",
       "│ Tree     ┆ 8.6066e-7      ┆ 0.230465       ┆ 0.23139     ┆ 0.000926  │\n",
       "│ Logistic ┆ 0.000862       ┆ 0.22503        ┆ 0.23139     ┆ 0.007221  │\n",
       "│ Trivial  ┆ 0.000041       ┆ 0.0            ┆ 0.23139     ┆ 0.23143   │\n",
       "└──────────┴────────────────┴────────────────┴─────────────┴───────────┘"
      ]
     },
     "execution_count": 26,
     "metadata": {},
     "output_type": "execute_result"
    }
   ],
   "source": [
    "decompose(\n",
    "    y_obs=y_test,\n",
    "    y_pred=df_pred_test,\n",
    "    scoring_function=SquaredError(),\n",
    ").sort([\"score\"])"
   ]
  }
 ],
 "metadata": {
  "kernelspec": {
   "display_name": "base",
   "language": "python",
   "name": "python3"
  },
  "language_info": {
   "codemirror_mode": {
    "name": "ipython",
    "version": 3
   },
   "file_extension": ".py",
   "mimetype": "text/x-python",
   "name": "python",
   "nbconvert_exporter": "python",
   "pygments_lexer": "ipython3",
   "version": "3.11.5"
  },
  "orig_nbformat": 4
 },
 "nbformat": 4,
 "nbformat_minor": 2
}
